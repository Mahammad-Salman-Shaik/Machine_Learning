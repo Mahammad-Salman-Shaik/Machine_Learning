{
 "cells": [
  {
   "attachments": {},
   "cell_type": "markdown",
   "id": "c34b355b",
   "metadata": {},
   "source": [
    "# Oil Production Forecasting Using Machine Learning\n",
    "\n",
    "#### Mahammad Salman Shaik (2215886)\n",
    "#### Akram Mohammad  (2162967)\n",
    "#### Imtiyaz Ali Syed (2220056)\n",
    "#### Faisal Malik Mohammed (2214828)"
   ]
  },
  {
   "cell_type": "markdown",
   "id": "03b512ec",
   "metadata": {},
   "source": [
    "## Import necessary libraries and Load the data"
   ]
  },
  {
   "cell_type": "code",
   "execution_count": null,
   "id": "d8e97d54",
   "metadata": {},
   "outputs": [],
   "source": [
    "# Import necessary libraries\n",
    "import pandas as pd\n",
    "import numpy as np\n",
    "import matplotlib.pyplot as plt\n",
    "import missingno as msno\n",
    "\n",
    "# Load Volve production data from Excel file\n",
    "volve_data = pd.read_excel('Volve production data.xlsx')\n",
    "\n",
    "\n"
   ]
  },
  {
   "cell_type": "markdown",
   "id": "2b696785",
   "metadata": {},
   "source": [
    "## Performing Exploratory Data Analytics"
   ]
  },
  {
   "cell_type": "code",
   "execution_count": null,
   "id": "6fa6499c",
   "metadata": {},
   "outputs": [],
   "source": [
    "volve_data.head()"
   ]
  },
  {
   "cell_type": "code",
   "execution_count": null,
   "id": "c10036b0",
   "metadata": {},
   "outputs": [],
   "source": [
    "# Print information about the data, including column names, data types, and non-null value counts\n",
    "volve_data.info()"
   ]
  },
  {
   "cell_type": "code",
   "execution_count": null,
   "id": "53e0b964",
   "metadata": {},
   "outputs": [],
   "source": [
    "# We can check the shape and columns of the data\n",
    "print(volve_data.shape)\n",
    "print(volve_data.columns)"
   ]
  },
  {
   "cell_type": "code",
   "execution_count": null,
   "id": "4896714e",
   "metadata": {},
   "outputs": [],
   "source": [
    "# We can also check the data types of each column\n",
    "print(volve_data.dtypes)"
   ]
  },
  {
   "cell_type": "code",
   "execution_count": null,
   "id": "a6ff5c08",
   "metadata": {},
   "outputs": [],
   "source": [
    "null_counts = volve_data.isnull().sum()\n",
    "\n",
    "# Print the result\n",
    "print(null_counts)"
   ]
  },
  {
   "cell_type": "code",
   "execution_count": null,
   "id": "3e2fdbf3",
   "metadata": {},
   "outputs": [],
   "source": [
    "# Generate summary statistics of the data, including count, mean, standard deviation, minimum, and maximum values\n",
    "volve_data.describe()"
   ]
  },
  {
   "cell_type": "code",
   "execution_count": null,
   "id": "3dd4678e",
   "metadata": {},
   "outputs": [],
   "source": [
    "# Calculate the correlation between the different columns of the data\n",
    "volve_data.corr()\n"
   ]
  },
  {
   "cell_type": "code",
   "execution_count": null,
   "id": "7f582ea5",
   "metadata": {},
   "outputs": [],
   "source": [
    "# Count the number of occurrences of each value in the 'WELL_BORE_CODE' column\n",
    "print(volve_data['WELL_BORE_CODE'].value_counts())"
   ]
  },
  {
   "cell_type": "code",
   "execution_count": null,
   "id": "c312183e",
   "metadata": {},
   "outputs": [],
   "source": [
    "# Use the missingno library to visualize the missing data in the dataset\n",
    "msno.matrix(volve_data)"
   ]
  },
  {
   "cell_type": "code",
   "execution_count": null,
   "id": "ef73b090",
   "metadata": {},
   "outputs": [],
   "source": [
    "print(volve_data['NPD_WELL_BORE_CODE'].value_counts())"
   ]
  },
  {
   "cell_type": "code",
   "execution_count": null,
   "id": "7c46535d",
   "metadata": {},
   "outputs": [],
   "source": [
    "# Filter the data by selecting rows where the 'NPD_WELL_BORE_CODE' column matches certain well codes\n",
    "well_1_data = volve_data[volve_data['NPD_WELL_BORE_CODE'] == 7405]\n",
    "well_2_data = volve_data[volve_data['NPD_WELL_BORE_CODE'] == 7078]\n",
    "well_3_data = volve_data[volve_data['NPD_WELL_BORE_CODE'] == 5599]\n",
    "well_4_data = volve_data[volve_data['NPD_WELL_BORE_CODE'] == 5351]\n",
    "well_5_data = volve_data[volve_data['NPD_WELL_BORE_CODE'] == 7289]\n",
    "well_6_data = volve_data[volve_data['NPD_WELL_BORE_CODE'] == 5693]\n",
    "well_7_data = volve_data[volve_data['NPD_WELL_BORE_CODE'] == 5769]\n"
   ]
  },
  {
   "cell_type": "code",
   "execution_count": null,
   "id": "c6ae471a",
   "metadata": {},
   "outputs": [],
   "source": [
    "print(\"Information about well 1:\")\n",
    "print(well_1_data.info())\n",
    "print(\"\")\n",
    "\n",
    "print(\"Information about well 2:\")\n",
    "print(well_2_data.info())\n",
    "print(\"\")\n",
    "\n",
    "print(\"Information about well 3:\")\n",
    "print(well_3_data.info())\n",
    "print(\"\")\n",
    "\n",
    "print(\"Information about well 4:\")\n",
    "print(well_4_data.info())\n",
    "print(\"\")\n",
    "\n",
    "print(\"Information about well 5:\")\n",
    "print(well_5_data.info())\n",
    "print(\"\")\n",
    "\n",
    "print(\"Information about well 6:\")\n",
    "print(well_6_data.info())\n",
    "print(\"\")\n",
    "\n",
    "print(\"Information about well 7:\")\n",
    "print(well_7_data.info())"
   ]
  },
  {
   "cell_type": "code",
   "execution_count": null,
   "id": "faeb3faa",
   "metadata": {},
   "outputs": [],
   "source": [
    "import numpy as np\n",
    "from matplotlib import pyplot as plt\n",
    "%matplotlib inline\n",
    "plt.style.use('ggplot')\n",
    "\n",
    "# Define function for creating ECDF plot\n",
    "def ecdf(data):\n",
    "    n = len(data)\n",
    "    x = np.sort(data)\n",
    "    y = np.arange(1,n+1)/n\n",
    "    return x,y\n",
    "\n",
    "# Create subplots for all wells\n",
    "fig, axs = plt.subplots(2, 3, figsize=(12, 8))\n",
    "axs = axs.ravel()  # flatten the array of subplots\n",
    "\n",
    "# Loop through wells and plot ECDF\n",
    "wells = [5693, 5769, 5351, 7078, 7289, 7405]\n",
    "for i, well in enumerate(wells):\n",
    "    well_data = volve_data[volve_data['NPD_WELL_BORE_CODE'] == well]\n",
    "    x_axis, y_axis = ecdf(well_data['BORE_OIL_VOL'])\n",
    "    axs[i].plot(x_axis, y_axis, marker=\".\", linestyle=\"none\", color='blue')\n",
    "    axs[i].set_xlabel('Oil Volume (Sm3)')\n",
    "    axs[i].set_ylabel('ECDF')\n",
    "    axs[i].set_title(f'Bore Code = {well}')\n",
    "    axs[i].set_xlim([0, 1200]) # set limit for x-axis\n",
    "    \n",
    "plt.tight_layout()\n",
    "plt.show()\n"
   ]
  },
  {
   "cell_type": "code",
   "execution_count": null,
   "id": "99ed36ab",
   "metadata": {},
   "outputs": [],
   "source": [
    "x_axis, y_axis = ecdf(well_6_data['BORE_WI_VOL'])\n",
    "plt.plot(x_axis, y_axis, marker=\".\", linestyle=\"none\")\n",
    "\n",
    "#Labeling\n",
    "plt.xlabel('Water Injection(Sm3)')\n",
    "plt.ylabel('ECDF')\n",
    "plt.title('Bore Code = 5693(Well 6)')\n",
    "\n",
    "plt.show()"
   ]
  },
  {
   "cell_type": "code",
   "execution_count": null,
   "id": "2fc3513c",
   "metadata": {},
   "outputs": [],
   "source": [
    "x_axis, y_axis = ecdf(well_7_data['BORE_WI_VOL'])\n",
    "plt.plot(x_axis, y_axis, marker=\".\", linestyle=\"none\")\n",
    "\n",
    "#Labeling\n",
    "plt.xlabel('Water Injection(Sm3)')\n",
    "plt.ylabel('ECDF')\n",
    "plt.title('Bore Code = 5769(Well 7)')\n",
    "\n",
    "plt.show()"
   ]
  },
  {
   "cell_type": "code",
   "execution_count": null,
   "id": "d9b323d6",
   "metadata": {},
   "outputs": [],
   "source": [
    "import seaborn as sns\n",
    "import matplotlib.pyplot as plt\n",
    "\n",
    "plt.figure(figsize=(20,20))\n",
    "\n",
    "columns = ['ON_STREAM_HRS', 'AVG_DOWNHOLE_PRESSURE', 'AVG_DOWNHOLE_TEMPERATURE',\n",
    "           'AVG_DP_TUBING', 'AVG_ANNULUS_PRESS', 'AVG_CHOKE_SIZE_P',\n",
    "           'AVG_WHP_P', 'AVG_WHT_P', 'DP_CHOKE_SIZE', 'BORE_OIL_VOL',\n",
    "           'BORE_GAS_VOL', 'BORE_WAT_VOL', 'BORE_WI_VOL']\n",
    "\n",
    "for i, col in enumerate(columns):\n",
    "    plt.subplot(5, 3, i+1)\n",
    "    sns.boxplot(x='NPD_WELL_BORE_CODE', y=col, data=volve_data, color='blue')\n",
    "    plt.xlabel('Well Code')\n",
    "    plt.ylabel(col)\n",
    "    plt.title(col)\n",
    "\n",
    "plt.tight_layout()\n",
    "plt.show()\n"
   ]
  },
  {
   "cell_type": "code",
   "execution_count": null,
   "id": "1e15be43",
   "metadata": {},
   "outputs": [],
   "source": [
    "import pandas as pd\n",
    "import seaborn as sns\n",
    "import matplotlib.pyplot as plt\n",
    "\n",
    "\n",
    "\n",
    "# Calculate the correlation matrix\n",
    "corr_matrix = volve_data.corr()\n",
    "\n",
    "# Set up figure size and style\n",
    "sns.set(style=\"white\")\n",
    "plt.figure(figsize=(10, 8))\n",
    "\n",
    "# Create correlation plot\n",
    "sns.heatmap(corr_matrix, cmap='YlGnBu', annot=True, fmt='.2f', linewidths=.5, cbar_kws={\"shrink\": .8})\n",
    "\n",
    "\n",
    "\n"
   ]
  },
  {
   "cell_type": "markdown",
   "id": "45f9e4db",
   "metadata": {},
   "source": [
    "## Performing Linear Regression"
   ]
  },
  {
   "cell_type": "markdown",
   "id": "3a31e387",
   "metadata": {},
   "source": [
    "### Import necessary libraries"
   ]
  },
  {
   "cell_type": "code",
   "execution_count": null,
   "id": "b05e4a4c",
   "metadata": {},
   "outputs": [],
   "source": [
    "import pandas as pd\n",
    "import numpy as np\n",
    "from sklearn.model_selection import train_test_split\n",
    "from sklearn.linear_model import LinearRegression\n",
    "from sklearn.preprocessing import MinMaxScaler\n",
    "from sklearn.metrics import r2_score, mean_absolute_error, mean_squared_error\n",
    "import math\n",
    "from matplotlib import pyplot as plt\n",
    "\n",
    "\n"
   ]
  },
  {
   "cell_type": "markdown",
   "id": "5744eb34",
   "metadata": {},
   "source": [
    "### Load data\n"
   ]
  },
  {
   "cell_type": "code",
   "execution_count": null,
   "id": "3b498761",
   "metadata": {},
   "outputs": [],
   "source": [
    "df = pd.read_excel('Volve production data.xlsx')"
   ]
  },
  {
   "cell_type": "markdown",
   "id": "e584f2cb",
   "metadata": {},
   "source": [
    "### Round data to nearest integer\n"
   ]
  },
  {
   "cell_type": "code",
   "execution_count": null,
   "id": "60299592",
   "metadata": {},
   "outputs": [],
   "source": [
    "df = np.round(df)"
   ]
  },
  {
   "cell_type": "markdown",
   "id": "42ffc0a3",
   "metadata": {},
   "source": [
    "### Interpolate missing values\n"
   ]
  },
  {
   "cell_type": "code",
   "execution_count": null,
   "id": "da9334a5",
   "metadata": {},
   "outputs": [],
   "source": [
    "cols_to_interpolate = ['ON_STREAM_HRS', 'AVG_DOWNHOLE_PRESSURE', 'AVG_DOWNHOLE_TEMPERATURE', 'AVG_DP_TUBING',\n",
    "                       'AVG_ANNULUS_PRESS', 'AVG_CHOKE_SIZE_P', 'AVG_WHP_P', 'AVG_WHT_P', 'DP_CHOKE_SIZE',\n",
    "                       'BORE_OIL_VOL', 'BORE_GAS_VOL', 'BORE_WAT_VOL']\n",
    "df[cols_to_interpolate] = df[cols_to_interpolate].interpolate(method='linear')"
   ]
  },
  {
   "cell_type": "markdown",
   "id": "f957addb",
   "metadata": {},
   "source": [
    "### Drop unnecessary columns"
   ]
  },
  {
   "cell_type": "code",
   "execution_count": null,
   "id": "e452d36c",
   "metadata": {},
   "outputs": [],
   "source": [
    "cols_to_drop = ['WELL_BORE_CODE', 'NPD_WELL_BORE_NAME', 'NPD_FIELD_NAME', 'NPD_FIELD_CODE', 'NPD_FACILITY_CODE',\n",
    "                'NPD_FACILITY_NAME', 'AVG_DOWNHOLE_PRESSURE', 'AVG_DP_TUBING', 'BORE_WI_VOL', 'AVG_CHOKE_UOM',\n",
    "                'FLOW_KIND', 'WELL_TYPE', 'BORE_GAS_VOL']\n",
    "df.drop(cols_to_drop, axis=1, inplace=True)"
   ]
  },
  {
   "cell_type": "markdown",
   "id": "90f68a9c",
   "metadata": {},
   "source": [
    "### Scale dataset"
   ]
  },
  {
   "cell_type": "code",
   "execution_count": null,
   "id": "31245588",
   "metadata": {},
   "outputs": [],
   "source": [
    "cols_to_scale = ['ON_STREAM_HRS', 'AVG_DOWNHOLE_TEMPERATURE', 'AVG_ANNULUS_PRESS', 'AVG_CHOKE_SIZE_P', 'AVG_WHP_P',\n",
    "                 'AVG_WHT_P']\n",
    "scaler = MinMaxScaler()\n",
    "df[cols_to_scale] = scaler.fit_transform(df[cols_to_scale])"
   ]
  },
  {
   "cell_type": "markdown",
   "id": "4ed1783d",
   "metadata": {},
   "source": [
    "### Select data for wells 5599, 5351, 7078\n"
   ]
  },
  {
   "cell_type": "code",
   "execution_count": null,
   "id": "39e23e46",
   "metadata": {},
   "outputs": [],
   "source": [
    "df = df.loc[df['NPD_WELL_BORE_CODE'].isin([5599, 5351, 7078])]"
   ]
  },
  {
   "cell_type": "markdown",
   "id": "8efc0d60",
   "metadata": {},
   "source": [
    "### Split data into training and testing sets\n"
   ]
  },
  {
   "cell_type": "code",
   "execution_count": null,
   "id": "89f3f7a2",
   "metadata": {},
   "outputs": [],
   "source": [
    "X = df.drop(['BORE_OIL_VOL'],axis=1)\n",
    "y= df[['BORE_OIL_VOL','NPD_WELL_BORE_CODE']]\n",
    "X_train, X_test, y_train, y_test = train_test_split(X, y, test_size=0.3, random_state=42)"
   ]
  },
  {
   "cell_type": "markdown",
   "id": "d6899090",
   "metadata": {},
   "source": [
    "### Train a linear regression model\n"
   ]
  },
  {
   "cell_type": "code",
   "execution_count": null,
   "id": "5347a74e",
   "metadata": {},
   "outputs": [],
   "source": [
    "reg_linear = LinearRegression()\n",
    "x_train_final = X_train.drop(['DATEPRD','NPD_WELL_BORE_CODE'],axis = 1)\n",
    "x_test_final = X_test.drop(['DATEPRD',\"NPD_WELL_BORE_CODE\"],axis = 1)\n",
    "y_test_final = y_test['BORE_OIL_VOL']\n",
    "y_train_final = y_train['BORE_OIL_VOL']\n",
    "reg_linear.fit(x_train_final, y_train_final)"
   ]
  },
  {
   "cell_type": "markdown",
   "id": "6147f565",
   "metadata": {},
   "source": [
    "### Use the model to predict oil production for the test data\n"
   ]
  },
  {
   "cell_type": "code",
   "execution_count": null,
   "id": "bd057af8",
   "metadata": {},
   "outputs": [],
   "source": [
    "y_pred_linear = reg_linear.predict(x_test_final)"
   ]
  },
  {
   "cell_type": "markdown",
   "id": "f844c75a",
   "metadata": {},
   "source": [
    "### Calculate the Performance Metrics"
   ]
  },
  {
   "cell_type": "code",
   "execution_count": null,
   "id": "16cbcdf7",
   "metadata": {},
   "outputs": [],
   "source": [
    "# Calculate R-squared score to evaluate the model's performance\n",
    "r2 = r2_score(y_test_final, y_pred_linear)\n",
    "print('R-squared score of Linear Regression Model is :', r2)\n",
    "\n",
    "# Calculate mean absolute error\n",
    "mae = mean_absolute_error(y_test_final, y_pred_linear)\n",
    "print('Mean absolute error of Linear Regression Model is :', mae)\n",
    "\n",
    "# Calculate root mean squared error\n",
    "rmse = math.sqrt(mean_squared_error(y_test_final, y_pred_linear))\n",
    "print('Root mean squared error of linear Regression Model:', rmse)\n",
    "# Calculate mean squared error\n",
    "mse = mean_squared_error(y_test_final, y_pred_linear)\n",
    "print('mean squared error of Linear Regression Model is :', mse)\n",
    "\n"
   ]
  },
  {
   "cell_type": "markdown",
   "id": "897d151e",
   "metadata": {},
   "source": [
    "## Plot actual vs predicted values for Linear Regression Model"
   ]
  },
  {
   "cell_type": "code",
   "execution_count": null,
   "id": "38257020",
   "metadata": {},
   "outputs": [],
   "source": [
    "# Plot actual vs predicted values\n",
    "plt.style.use('fivethirtyeight')\n",
    "plt.figure(figsize = (14,8))\n",
    "plt.scatter(X_test[\"DATEPRD\"].tolist(), y_pred_linear, label='predicted')\n",
    "plt.scatter(X_test[\"DATEPRD\"].tolist(), y_test_final, label='actual')\n",
    "plt.legend()\n",
    "plt.xlabel(\"Year\")\n",
    "plt.ylabel(\"Bore oil volume\")\n",
    "plt.title('Actual v/s Linear Regression Model prediction for Bore Oil Volume')\n",
    "\n",
    "# Show plot\n",
    "plt.show()\n"
   ]
  },
  {
   "cell_type": "markdown",
   "id": "ad6a7691",
   "metadata": {},
   "source": [
    "### Plotting the actual vs Predicted values for Each Well Individually"
   ]
  },
  {
   "cell_type": "markdown",
   "id": "ca3a40e0",
   "metadata": {},
   "source": [
    "#### Plot actual vs predicted values for 5599"
   ]
  },
  {
   "cell_type": "code",
   "execution_count": null,
   "id": "aec68821",
   "metadata": {},
   "outputs": [],
   "source": [
    "# Select data for well 5599\n",
    "X_test_5599 = X_test[X_test[\"NPD_WELL_BORE_CODE\"] == 5599]\n",
    "y_test_5599 = y_test[y_test['NPD_WELL_BORE_CODE'] == 5599]\n",
    "x_test_5599final = X_test_5599.drop(['DATEPRD',\"NPD_WELL_BORE_CODE\"],axis = 1)\n",
    "\n",
    "# Predict values\n",
    "y_pred_linear = reg_linear.predict(x_test_5599final)\n",
    "\n",
    "# Plot actual vs predicted values\n",
    "plt.style.use('fivethirtyeight')\n",
    "plt.figure(figsize = (14,8))\n",
    "plt.scatter(X_test_5599[\"DATEPRD\"].tolist(),y_pred_linear,label='predicted')\n",
    "plt.scatter(X_test_5599[\"DATEPRD\"].tolist(),y_test_5599['BORE_OIL_VOL'],label='actual')\n",
    "plt.legend()\n",
    "plt.xlabel(\"Year\")\n",
    "plt.ylabel(\"Bore oil volume\")\n",
    "plt.title('Actual v/s Linear Regression Model prediction for Bore Oil Volume for Well No. - 5599')\n",
    "\n",
    "# Evaluate performance\n",
    "y_test_5599_final = y_test_5599['BORE_OIL_VOL']\n",
    "print(\"The R2 value for linear regression for oil volume production in well 5599 is\", reg_linear.score(x_test_5599final, y_test_5599_final))"
   ]
  },
  {
   "cell_type": "markdown",
   "id": "c17dbd37",
   "metadata": {},
   "source": [
    "#### Plotting Actual vs predicted values for Well 5351"
   ]
  },
  {
   "cell_type": "code",
   "execution_count": null,
   "id": "1c29c996",
   "metadata": {},
   "outputs": [],
   "source": [
    "# Select data for well 5351\n",
    "X_test_5351 = X_test[X_test[\"NPD_WELL_BORE_CODE\"] == 5351]\n",
    "y_test_5351 = y_test[y_test['NPD_WELL_BORE_CODE'] == 5351]\n",
    "x_test_5351final = X_test_5351.drop(['DATEPRD',\"NPD_WELL_BORE_CODE\"],axis = 1)\n",
    "\n",
    "# Predict values\n",
    "y_pred_linear = reg_linear.predict(x_test_5351final)\n",
    "\n",
    "# Plot actual vs predicted values\n",
    "plt.style.use('fivethirtyeight')\n",
    "plt.figure(figsize = (14,8))\n",
    "plt.scatter(X_test_5351[\"DATEPRD\"].tolist(),y_pred_linear,label='predicted')\n",
    "plt.scatter(X_test_5351[\"DATEPRD\"].tolist(),y_test_5351['BORE_OIL_VOL'],label='actual')\n",
    "plt.legend()\n",
    "plt.xlabel(\"Year\")\n",
    "plt.ylabel(\"Bore oil volume\")\n",
    "plt.title('Actual v/s Linear Regression Model prediction for Bore Oil Volume for Well No. - 5351')\n",
    "\n",
    "# Evaluate performance\n",
    "y_test_5351_final = y_test_5351['BORE_OIL_VOL']\n",
    "print(\"The R2 value for linear regression for oil volume production in well 5351 is\", reg_linear.score(x_test_5351final, y_test_5351_final))\n"
   ]
  },
  {
   "cell_type": "markdown",
   "id": "fd4ec555",
   "metadata": {},
   "source": [
    "#### Plotting Actual vs predicted values for Well 7078"
   ]
  },
  {
   "cell_type": "code",
   "execution_count": null,
   "id": "f78d339e",
   "metadata": {},
   "outputs": [],
   "source": [
    "# Select data for well 7078\n",
    "X_test_7078 = X_test[X_test[\"NPD_WELL_BORE_CODE\"] == 7078]\n",
    "y_test_7078 = y_test[y_test['NPD_WELL_BORE_CODE'] == 7078]\n",
    "x_test_7078final = X_test_7078.drop(['DATEPRD',\"NPD_WELL_BORE_CODE\"],axis = 1)\n",
    "\n",
    "# Predict using the trained model\n",
    "y_pred_linear = reg_linear.predict(x_test_7078final)\n",
    "\n",
    "# Plot actual vs predicted values\n",
    "plt.style.use('fivethirtyeight')\n",
    "plt.figure(figsize = (14,8))\n",
    "plt.scatter(X_test_7078[\"DATEPRD\"].tolist(), y_pred_linear, label='predicted')\n",
    "plt.scatter(X_test_7078[\"DATEPRD\"].tolist(), y_test_7078['BORE_OIL_VOL'], label='actual')\n",
    "plt.legend()\n",
    "plt.xlabel(\"Year\")\n",
    "plt.ylabel(\"Bore oil volume\")\n",
    "plt.title('Actual v/s Linear Regression Model prediction for Bore Oil Volume for Well No. - 7078')"
   ]
  },
  {
   "cell_type": "markdown",
   "id": "ecede735",
   "metadata": {},
   "source": [
    "# Polynomial regression"
   ]
  },
  {
   "cell_type": "markdown",
   "id": "0c06647e",
   "metadata": {},
   "source": [
    "### Importing any necessary libraries"
   ]
  },
  {
   "cell_type": "code",
   "execution_count": null,
   "id": "29f49b4d",
   "metadata": {},
   "outputs": [],
   "source": [
    "from sklearn.preprocessing import PolynomialFeatures\n",
    "from sklearn.linear_model import LinearRegression"
   ]
  },
  {
   "cell_type": "markdown",
   "id": "4cba1f30",
   "metadata": {},
   "source": [
    "### Create polynomial features of degree 2\n"
   ]
  },
  {
   "cell_type": "code",
   "execution_count": null,
   "id": "da283643",
   "metadata": {},
   "outputs": [],
   "source": [
    "poly = PolynomialFeatures(degree=2)\n",
    "x_train_poly = poly.fit_transform(x_train_final)\n",
    "x_test_poly = poly.transform(x_test_final)\n"
   ]
  },
  {
   "cell_type": "markdown",
   "id": "6f32ff81",
   "metadata": {},
   "source": [
    "### Fit linear regression model\n"
   ]
  },
  {
   "cell_type": "code",
   "execution_count": null,
   "id": "f093f13d",
   "metadata": {},
   "outputs": [],
   "source": [
    "reg_poly = LinearRegression()\n",
    "reg_poly.fit(x_train_poly, y_train_final)"
   ]
  },
  {
   "cell_type": "markdown",
   "id": "8b8473e2",
   "metadata": {},
   "source": [
    "### Predict on test data\n"
   ]
  },
  {
   "cell_type": "code",
   "execution_count": null,
   "id": "96995667",
   "metadata": {},
   "outputs": [],
   "source": [
    "y_pred_poly = reg_poly.predict(x_test_poly)"
   ]
  },
  {
   "cell_type": "markdown",
   "id": "40d093ff",
   "metadata": {},
   "source": [
    "### Calculating Performance metrics for Polynomial Regression"
   ]
  },
  {
   "cell_type": "code",
   "execution_count": null,
   "id": "31988863",
   "metadata": {},
   "outputs": [],
   "source": [
    "# Calculate R-squared score\n",
    "r2_poly = r2_score(y_test_final, y_pred_poly)\n",
    "print('R-squared score of Ploynomial Regression is :', r2_poly)\n",
    "\n",
    "# Calculate mean absolute error\n",
    "mae_poly = mean_absolute_error(y_test_final, y_pred_poly)\n",
    "print('Mean absolute error of Ploynomial Regression is :', mae_poly)\n",
    "\n",
    "#Calculate mean squared error\n",
    "mse_poly = mean_squared_error(y_test_final, y_pred_poly)\n",
    "print('Mean squared error of Ploynomial Regression is :', mse_poly)\n",
    "# Calculate root mean squared error\n",
    "rmse_poly = math.sqrt(mean_squared_error(y_test_final, y_pred_poly))\n",
    "print('Root mean squared error of Ploynomial Regression is :', rmse_poly)"
   ]
  },
  {
   "cell_type": "markdown",
   "id": "31c9d421",
   "metadata": {},
   "source": [
    "### Plotting Actual vs Predicted values for Polynomial Regression"
   ]
  },
  {
   "cell_type": "code",
   "execution_count": null,
   "id": "80e43488",
   "metadata": {},
   "outputs": [],
   "source": [
    "# Plot actual vs predicted values\n",
    "plt.style.use('fivethirtyeight')\n",
    "#plt.style.use('seaborn')\n",
    "plt.figure(figsize=(14, 8))\n",
    "plt.scatter(X_test['DATEPRD'], y_pred_poly, label='predicted')\n",
    "plt.scatter(X_test['DATEPRD'], y_test_final, label='actual')\n",
    "plt.legend()\n",
    "plt.xlabel(\"Year\")\n",
    "plt.ylabel(\"Bore oil volume\")\n",
    "plt.title('Actual v/s Polynomial Regression Model prediction for Bore Oil Volume')\n",
    "\n",
    "# Show plot\n",
    "plt.show()\n"
   ]
  },
  {
   "cell_type": "markdown",
   "id": "dbb28c37",
   "metadata": {},
   "source": [
    "### Plotting Actual vs predicted values for each Well"
   ]
  },
  {
   "cell_type": "markdown",
   "id": "d914e3bd",
   "metadata": {},
   "source": [
    "#### Plotting for well 5599"
   ]
  },
  {
   "cell_type": "code",
   "execution_count": null,
   "id": "67e672aa",
   "metadata": {},
   "outputs": [],
   "source": [
    "# Perform polynomial regression for well 5599\n",
    "poly = PolynomialFeatures(degree=2)\n",
    "x_poly_5599 = poly.fit_transform(x_test_5599final)\n",
    "reg_poly = LinearRegression()\n",
    "reg_poly.fit(x_poly_5599, y_test_5599_final)\n",
    "y_pred_poly = reg_poly.predict(poly.fit_transform(x_test_5599final))\n",
    "\n",
    "# Plot actual vs predicted values\n",
    "plt.figure(figsize=(14, 8))\n",
    "plt.scatter(X_test_5599[\"DATEPRD\"].tolist(), y_pred_poly, label='Polynomial Regression')\n",
    "plt.scatter(X_test_5599[\"DATEPRD\"].tolist(), y_test_5599['BORE_OIL_VOL'], label='Actual')\n",
    "plt.legend()\n",
    "plt.xlabel(\"Year\")\n",
    "plt.ylabel(\"Bore oil volume\")\n",
    "plt.title('Actual v/s Polynomial Regression Model prediction for Bore Oil Volume for Well No. - 5599')"
   ]
  },
  {
   "cell_type": "markdown",
   "id": "036e7658",
   "metadata": {},
   "source": [
    "#### Plotting for Well 5351"
   ]
  },
  {
   "cell_type": "code",
   "execution_count": null,
   "id": "bb7ed330",
   "metadata": {},
   "outputs": [],
   "source": [
    "# Perform polynomial regression for well 5351\n",
    "poly = PolynomialFeatures(degree=2)\n",
    "x_poly_5351 = poly.fit_transform(x_test_5351final)\n",
    "reg_poly = LinearRegression()\n",
    "reg_poly.fit(x_poly_5351, y_test_5351_final)\n",
    "y_pred_poly = reg_poly.predict(poly.fit_transform(x_test_5351final))\n",
    "\n",
    "# Plot actual vs predicted values\n",
    "plt.figure(figsize=(14, 8))\n",
    "plt.scatter(X_test_5351[\"DATEPRD\"].tolist(), y_pred_poly, label='Polynomial Regression')\n",
    "plt.scatter(X_test_5351[\"DATEPRD\"].tolist(), y_test_5351['BORE_OIL_VOL'], label='Actual')\n",
    "plt.legend()\n",
    "plt.xlabel(\"Year\")\n",
    "plt.ylabel(\"Bore oil volume\")\n",
    "plt.title('Actual v/s Polynomial Regression Model prediction for Bore Oil Volume for Well No. - 5351')"
   ]
  },
  {
   "cell_type": "markdown",
   "id": "bbfd973a",
   "metadata": {},
   "source": [
    "#### Plotting for Well 7078"
   ]
  },
  {
   "cell_type": "code",
   "execution_count": null,
   "id": "6a438174",
   "metadata": {},
   "outputs": [],
   "source": [
    "poly = PolynomialFeatures(degree=2)\n",
    "y_test_7078_final = y_test_7078['BORE_OIL_VOL']\n",
    "x_poly_7078 = poly.fit_transform(x_test_7078final)\n",
    "reg_poly = LinearRegression()\n",
    "reg_poly.fit(x_poly_7078, y_test_7078_final)\n",
    "y_pred_poly = reg_poly.predict(poly.fit_transform(x_test_7078final))\n",
    "\n",
    "# Plot actual vs predicted values\n",
    "plt.figure(figsize=(14, 8))\n",
    "plt.scatter(X_test_7078[\"DATEPRD\"].tolist(), y_pred_poly, label='Polynomial Regression')\n",
    "plt.scatter(X_test_7078[\"DATEPRD\"].tolist(), y_test_7078['BORE_OIL_VOL'], label='Actual')\n",
    "plt.legend()\n",
    "plt.xlabel(\"Year\")\n",
    "plt.ylabel(\"Bore oil volume\")\n",
    "plt.title('Actual v/s Polynomial Regression Model prediction for Bore Oil Volume for Well No. - 7078')"
   ]
  },
  {
   "cell_type": "markdown",
   "id": "fec43589",
   "metadata": {},
   "source": []
  },
  {
   "cell_type": "markdown",
   "id": "8f238928",
   "metadata": {},
   "source": [
    "## XGBOOST \n"
   ]
  },
  {
   "cell_type": "markdown",
   "id": "8b070425",
   "metadata": {},
   "source": [
    "### Import the Libraries"
   ]
  },
  {
   "cell_type": "code",
   "execution_count": null,
   "id": "ab0d8af3",
   "metadata": {},
   "outputs": [],
   "source": [
    "import pandas as pd\n",
    "import numpy as np\n",
    "import xgboost as xgb\n",
    "from sklearn.model_selection import train_test_split\n",
    "from sklearn.metrics import mean_absolute_error, mean_squared_error, r2_score\n",
    "\n",
    "\n"
   ]
  },
  {
   "cell_type": "markdown",
   "id": "86aac44a",
   "metadata": {},
   "source": [
    "### Load the data"
   ]
  },
  {
   "cell_type": "code",
   "execution_count": null,
   "id": "9275cb66",
   "metadata": {},
   "outputs": [],
   "source": [
    "df = pd.read_excel('Volve production data.xlsx')"
   ]
  },
  {
   "cell_type": "markdown",
   "id": "9c2514ac",
   "metadata": {},
   "source": [
    "### Round data to nearest integer"
   ]
  },
  {
   "cell_type": "code",
   "execution_count": null,
   "id": "fff6166f",
   "metadata": {},
   "outputs": [],
   "source": [
    "# Round data to nearest integer\n",
    "df = np.round(df)\n"
   ]
  },
  {
   "cell_type": "markdown",
   "id": "2d23327c",
   "metadata": {},
   "source": [
    "### Convert date to Unix timestamp"
   ]
  },
  {
   "cell_type": "code",
   "execution_count": null,
   "id": "1c8e8eb9",
   "metadata": {},
   "outputs": [],
   "source": [
    "# Convert date to Unix timestamp\n",
    "df['DATEPRD'] = pd.to_datetime(df['DATEPRD'])\n",
    "df['DATEPRD'] = (df['DATEPRD'] - pd.Timestamp(\"1970-01-01\")) // pd.Timedelta('1s')"
   ]
  },
  {
   "cell_type": "markdown",
   "id": "24db5d82",
   "metadata": {},
   "source": [
    "### Interpolate missing values"
   ]
  },
  {
   "cell_type": "code",
   "execution_count": null,
   "id": "1246800a",
   "metadata": {},
   "outputs": [],
   "source": [
    "# Interpolate missing values\n",
    "cols_to_interpolate = ['ON_STREAM_HRS', 'AVG_DOWNHOLE_PRESSURE', 'AVG_DOWNHOLE_TEMPERATURE', 'AVG_DP_TUBING',\n",
    "                       'AVG_ANNULUS_PRESS', 'AVG_CHOKE_SIZE_P', 'AVG_WHP_P', 'AVG_WHT_P', 'DP_CHOKE_SIZE',\n",
    "                       'BORE_OIL_VOL', 'BORE_GAS_VOL', 'BORE_WAT_VOL']\n",
    "df[cols_to_interpolate] = df[cols_to_interpolate].interpolate(method='linear')\n"
   ]
  },
  {
   "cell_type": "markdown",
   "id": "d7ff6a5f",
   "metadata": {},
   "source": [
    "### Drop unnecessary columns"
   ]
  },
  {
   "cell_type": "code",
   "execution_count": null,
   "id": "4a9aabb7",
   "metadata": {},
   "outputs": [],
   "source": [
    "# Drop unnecessary columns\n",
    "cols_to_drop = ['WELL_BORE_CODE', 'NPD_WELL_BORE_NAME', 'NPD_FIELD_NAME', 'NPD_FIELD_CODE', 'NPD_FACILITY_CODE',\n",
    "                'NPD_FACILITY_NAME', 'AVG_DOWNHOLE_PRESSURE', 'AVG_DP_TUBING', 'BORE_WI_VOL', 'AVG_CHOKE_UOM',\n",
    "                'FLOW_KIND', 'WELL_TYPE', 'BORE_GAS_VOL']\n",
    "df.drop(cols_to_drop, axis=1, inplace=True)"
   ]
  },
  {
   "cell_type": "markdown",
   "id": "3d60ddc3",
   "metadata": {},
   "source": [
    "### Select data for wells 5599,5351,7078"
   ]
  },
  {
   "cell_type": "code",
   "execution_count": null,
   "id": "ac4c42cd",
   "metadata": {},
   "outputs": [],
   "source": [
    "# Select data for wells 2-4\n",
    "df = df.loc[df['NPD_WELL_BORE_CODE'].isin([5599,5351,7078])]"
   ]
  },
  {
   "cell_type": "markdown",
   "id": "e7b757f7",
   "metadata": {},
   "source": [
    "### Prepare data for training"
   ]
  },
  {
   "cell_type": "code",
   "execution_count": null,
   "id": "499b32d7",
   "metadata": {},
   "outputs": [],
   "source": [
    "# Prepare data for training\n",
    "X = df.drop(['BORE_OIL_VOL'], axis=1)\n",
    "y = df['BORE_OIL_VOL']\n",
    "\n",
    "X_train, X_test, y_train, y_test = train_test_split(X, y, test_size=0.3, random_state=42)"
   ]
  },
  {
   "cell_type": "markdown",
   "id": "f11a8152",
   "metadata": {},
   "source": [
    "### Train model"
   ]
  },
  {
   "cell_type": "code",
   "execution_count": null,
   "id": "89265451",
   "metadata": {},
   "outputs": [],
   "source": [
    "# Train model\n",
    "model = xgb.XGBRegressor(n_estimators=100, learning_rate=0.1, gamma=0, subsample=0.75,\n",
    "                         colsample_bytree=1, max_depth=7, random_state=42)\n",
    "model.fit(X_train, y_train)"
   ]
  },
  {
   "cell_type": "markdown",
   "id": "b8bebbaf",
   "metadata": {},
   "source": [
    "### Predict on test set and calculate performance metrics"
   ]
  },
  {
   "cell_type": "code",
   "execution_count": null,
   "id": "cad11328",
   "metadata": {},
   "outputs": [],
   "source": [
    "# Predict on test set and calculate performance metrics\n",
    "y_pred_xgb = model.predict(X_test)\n",
    "r2 = r2_score(y_test, y_pred_xgb)\n",
    "mae = mean_absolute_error(y_test, y_pred_xgb)\n",
    "mse = mean_squared_error(y_test, y_pred_xgb)\n",
    "rmse = np.sqrt(mse)\n",
    "mape = np.mean(np.abs((y_test.replace(0, 1e-8) - y_pred_xgb) / y_test.replace(0, 1e-8))) * 100\n",
    "\n",
    "print(\"The R2 value for XGBoost Regression for oil volume production is\", r2)\n",
    "print(\"The mean absolute error (MAE) for XGBoost Regression is\", mae)\n",
    "print(\"The mean squared error (MSE) for XGBoost Regression is\", mse)\n",
    "print(\"The root mean squared error (RMSE) for XGBoost Regression is\", rmse)\n"
   ]
  },
  {
   "cell_type": "code",
   "execution_count": null,
   "id": "6f61a26e",
   "metadata": {},
   "outputs": [],
   "source": [
    "# Plot actual vs predicted values\n",
    "plt.style.use('fivethirtyeight')\n",
    "#plt.style.use('ggplot')\n",
    "plt.figure(figsize=(14, 8))\n",
    "plt.scatter(X_test['DATEPRD'], y_pred_xgb, label='predicted')\n",
    "plt.scatter(X_test['DATEPRD'], y_test_final, label='actual')\n",
    "plt.legend()\n",
    "plt.xlabel(\"Year \")#represented in terms of 9th power of seconds as we are using unix timestamp\n",
    "plt.ylabel(\"Bore oil volume\")\n",
    "plt.title('Actual v/s XG Boost Regression Model prediction for Bore Oil Volume')\n",
    "\n",
    "# Show plot\n",
    "plt.show()"
   ]
  },
  {
   "cell_type": "markdown",
   "id": "c8452aec",
   "metadata": {},
   "source": [
    "### Plotting the Actual vs Predicted values for the wells using XGBoost Regression Model"
   ]
  },
  {
   "cell_type": "markdown",
   "id": "a2c9edb5",
   "metadata": {},
   "source": [
    "#### Actual vs Predicted values for the well-5599"
   ]
  },
  {
   "cell_type": "code",
   "execution_count": null,
   "id": "70f35363",
   "metadata": {},
   "outputs": [],
   "source": [
    "import matplotlib.pyplot as plt\n",
    "\n",
    "# Select data for well 7405\n",
    "X_test_5599 = X_test[X_test['NPD_WELL_BORE_CODE'] == 5599]\n",
    "y_test_5599 = y_test[X_test['NPD_WELL_BORE_CODE'] == 5599]\n",
    "y_pred_5599 = model.predict(X_test_5599)\n",
    "\n",
    "# Plot predicted vs actual oil production\n",
    "plt.figure(figsize=(14, 8))\n",
    "plt.scatter(X_test_5599['DATEPRD'], y_test_5599, label='actual')\n",
    "plt.scatter(X_test_5599['DATEPRD'], y_pred_5599, label='predicted')\n",
    "plt.xlabel('Year')\n",
    "plt.ylabel('Bore oil volume')\n",
    "plt.title('Actual vs XGBoost Regression Model prediction for Bore Oil Volume for Well No. - 5599')\n",
    "plt.legend()\n",
    "plt.show()\n",
    "\n",
    "# Plot residual plot\n",
    "plt.figure(figsize=(14, 8))\n",
    "plt.scatter(y_pred_5599, y_pred_5599 - y_test_5599, c='b', s=40, alpha=0.5)\n",
    "plt.hlines(y=0, xmin=0, xmax=max(y_test_5599), colors='r', zorder=3)\n",
    "plt.xlabel('Predicted values')\n",
    "plt.ylabel('Residuals')\n",
    "plt.title('Residual plot for XGBoost Regression Model for Well No. - 5599')\n",
    "plt.show()\n"
   ]
  },
  {
   "cell_type": "markdown",
   "id": "3bfaeb98",
   "metadata": {},
   "source": [
    "#### Actual vs Predicted values for the well-5351"
   ]
  },
  {
   "cell_type": "code",
   "execution_count": null,
   "id": "593e5535",
   "metadata": {},
   "outputs": [],
   "source": [
    "# Select data for well 5351\n",
    "X_test_5351 = X_test[X_test['NPD_WELL_BORE_CODE'] == 5351]\n",
    "y_test_5351 = y_test[X_test['NPD_WELL_BORE_CODE'] == 5351]\n",
    "y_pred_5351 = model.predict(X_test_5351)\n",
    "\n",
    "# Plot predicted vs actual oil production\n",
    "plt.figure(figsize=(14, 8))\n",
    "plt.scatter(X_test_5351['DATEPRD'], y_test_5351, label='actual')\n",
    "plt.scatter(X_test_5351['DATEPRD'], y_pred_5351, label='predicted')\n",
    "plt.xlabel('Year')\n",
    "plt.ylabel('Bore oil volume')\n",
    "plt.title('Actual vs XGBoost Regression Model prediction for Bore Oil Volume for Well No. - 5351')\n",
    "plt.legend()\n",
    "plt.show()\n",
    "\n",
    "# Plot residual plot\n",
    "plt.figure(figsize=(14, 8))\n",
    "plt.scatter(y_pred_5351, y_pred_5351 - y_test_5351, c='b', s=40, alpha=0.5)\n",
    "plt.hlines(y=0, xmin=0, xmax=max(y_test_5351), colors='r', zorder=3)\n",
    "plt.xlabel('Predicted values')\n",
    "plt.ylabel('Residuals')\n",
    "plt.title('Residual plot for XGBoost Regression Model for Well No. - 5351')\n",
    "plt.show()"
   ]
  },
  {
   "cell_type": "markdown",
   "id": "ed39f09d",
   "metadata": {},
   "source": [
    "#### Actual vs Predicted values for the well-7078"
   ]
  },
  {
   "cell_type": "code",
   "execution_count": null,
   "id": "bed83bd7",
   "metadata": {},
   "outputs": [],
   "source": [
    "# Select data for well 7078\n",
    "X_test_7078 = X_test[X_test['NPD_WELL_BORE_CODE'] == 7078]\n",
    "y_test_7078 = y_test[X_test['NPD_WELL_BORE_CODE'] == 7078]\n",
    "y_pred_7078 = model.predict(X_test_7078)\n",
    "\n",
    "# Plot predicted vs actual oil production\n",
    "plt.figure(figsize=(14, 8))\n",
    "plt.scatter(X_test_7078['DATEPRD'], y_test_7078, label='actual')\n",
    "plt.scatter(X_test_7078['DATEPRD'], y_pred_7078, label='predicted')\n",
    "plt.xlabel('Year')\n",
    "plt.ylabel('Bore oil volume')\n",
    "plt.title('Actual vs XGBoost Regression Model prediction for Bore Oil Volume for Well No. - 7078')\n",
    "plt.legend()\n",
    "plt.show()\n",
    "\n",
    "# Plot residual plot\n",
    "plt.figure(figsize=(14, 8))\n",
    "plt.scatter(y_pred_7078, y_pred_7078 - y_test_7078, c='b', s=40, alpha=0.5)\n",
    "plt.hlines(y=0, xmin=0, xmax=max(y_test_7078), colors='r', zorder=3)\n"
   ]
  },
  {
   "cell_type": "markdown",
   "id": "9603f961",
   "metadata": {},
   "source": [
    "## Random Forest"
   ]
  },
  {
   "cell_type": "markdown",
   "id": "294d1d6d",
   "metadata": {},
   "source": [
    "### Importing the necessary libraries"
   ]
  },
  {
   "cell_type": "code",
   "execution_count": null,
   "id": "2f84f061",
   "metadata": {},
   "outputs": [],
   "source": [
    "import pandas as pd\n",
    "import numpy as np\n",
    "from sklearn.ensemble import RandomForestRegressor\n",
    "from sklearn.model_selection import train_test_split\n",
    "from sklearn.metrics import mean_absolute_error, mean_squared_error, r2_score\n",
    "\n",
    "\n",
    "\n"
   ]
  },
  {
   "cell_type": "markdown",
   "id": "27e7754f",
   "metadata": {},
   "source": [
    "### Load data"
   ]
  },
  {
   "cell_type": "code",
   "execution_count": null,
   "id": "81e33662",
   "metadata": {},
   "outputs": [],
   "source": [
    "# Load data\n",
    "df = pd.read_excel('Volve production data.xlsx')"
   ]
  },
  {
   "cell_type": "markdown",
   "id": "46840e28",
   "metadata": {},
   "source": [
    "### Round data to nearest integer"
   ]
  },
  {
   "cell_type": "code",
   "execution_count": null,
   "id": "3d435770",
   "metadata": {},
   "outputs": [],
   "source": [
    "df = np.round(df)\n"
   ]
  },
  {
   "cell_type": "markdown",
   "id": "8d94ba55",
   "metadata": {},
   "source": [
    "### Convert date to Unix timestamp"
   ]
  },
  {
   "cell_type": "code",
   "execution_count": null,
   "id": "ae8024f1",
   "metadata": {},
   "outputs": [],
   "source": [
    "df['DATEPRD'] = pd.to_datetime(df['DATEPRD'])\n",
    "df['DATEPRD'] = (df['DATEPRD'] - pd.Timestamp(\"1970-01-01\")) // pd.Timedelta('1s')"
   ]
  },
  {
   "cell_type": "markdown",
   "id": "52471d46",
   "metadata": {},
   "source": [
    "### Interpolate missing values"
   ]
  },
  {
   "cell_type": "code",
   "execution_count": null,
   "id": "7f4696ed",
   "metadata": {},
   "outputs": [],
   "source": [
    "cols_to_interpolate = ['ON_STREAM_HRS', 'AVG_DOWNHOLE_PRESSURE', 'AVG_DOWNHOLE_TEMPERATURE', 'AVG_DP_TUBING',\n",
    "                       'AVG_ANNULUS_PRESS', 'AVG_CHOKE_SIZE_P', 'AVG_WHP_P', 'AVG_WHT_P', 'DP_CHOKE_SIZE',\n",
    "                       'BORE_OIL_VOL', 'BORE_GAS_VOL', 'BORE_WAT_VOL']\n",
    "df[cols_to_interpolate] = df[cols_to_interpolate].interpolate(method='linear')\n"
   ]
  },
  {
   "cell_type": "markdown",
   "id": "85c5fcd8",
   "metadata": {},
   "source": [
    "### Drop unnecessary columns\n"
   ]
  },
  {
   "cell_type": "code",
   "execution_count": null,
   "id": "25b194d2",
   "metadata": {},
   "outputs": [],
   "source": [
    "cols_to_drop = ['WELL_BORE_CODE', 'NPD_WELL_BORE_NAME', 'NPD_FIELD_NAME', 'NPD_FIELD_CODE', 'NPD_FACILITY_CODE',\n",
    "                'NPD_FACILITY_NAME', 'AVG_DOWNHOLE_PRESSURE', 'AVG_DP_TUBING', 'BORE_WI_VOL', 'AVG_CHOKE_UOM',\n",
    "                'FLOW_KIND', 'WELL_TYPE', 'BORE_GAS_VOL']\n",
    "df.drop(cols_to_drop, axis=1, inplace=True)"
   ]
  },
  {
   "cell_type": "markdown",
   "id": "bf783f67",
   "metadata": {},
   "source": [
    "### Select data for wells 5351,5599,7078"
   ]
  },
  {
   "cell_type": "code",
   "execution_count": null,
   "id": "fa8ec094",
   "metadata": {},
   "outputs": [],
   "source": [
    "df = df.loc[df['NPD_WELL_BORE_CODE'].isin([5351, 7078,5599])]"
   ]
  },
  {
   "cell_type": "markdown",
   "id": "8ded2746",
   "metadata": {},
   "source": [
    "### Prepare data for training\n"
   ]
  },
  {
   "cell_type": "code",
   "execution_count": null,
   "id": "df2b4452",
   "metadata": {},
   "outputs": [],
   "source": [
    "# Prepare data for training\n",
    "X = df.drop(['BORE_OIL_VOL'], axis=1)\n",
    "y = df['BORE_OIL_VOL']\n",
    "\n",
    "X_train, X_test, y_train, y_test = train_test_split(X, y, test_size=0.4, random_state=42)\n"
   ]
  },
  {
   "cell_type": "markdown",
   "id": "39a8ca19",
   "metadata": {},
   "source": [
    "### Train model\n"
   ]
  },
  {
   "cell_type": "code",
   "execution_count": null,
   "id": "5163b83b",
   "metadata": {},
   "outputs": [],
   "source": [
    "rf_model = RandomForestRegressor(n_estimators=100, max_depth=7, random_state=42)\n",
    "rf_model.fit(X_train, y_train)"
   ]
  },
  {
   "cell_type": "markdown",
   "id": "2368155c",
   "metadata": {},
   "source": [
    "### Predict on test set and calculate performance metrics\n"
   ]
  },
  {
   "cell_type": "code",
   "execution_count": null,
   "id": "15c5ac88",
   "metadata": {},
   "outputs": [],
   "source": [
    "y_pred = rf_model.predict(X_test)\n",
    "r2 = r2_score(y_test, y_pred)\n",
    "mae = mean_absolute_error(y_test, y_pred)\n",
    "mse = mean_squared_error(y_test, y_pred)\n",
    "rmse = np.sqrt(mse)\n",
    "mape = np.mean(np.abs((y_test.replace(0, 1e-8) - y_pred) / y_test.replace(0, 1e-8))) * 100\n",
    "\n",
    "print(\"The R2 value for Random Forest Regression for oil volume production is\", r2)\n",
    "print(\"The mean absolute error (MAE) for Random Forest Regression is\", mae)\n",
    "print(\"The mean squared error (MSE) for Random Forest Regression is\", mse)\n",
    "print(\"The root mean squared error (RMSE) for Random Forest Regression is\", rmse)"
   ]
  },
  {
   "cell_type": "markdown",
   "id": "888d58a9",
   "metadata": {},
   "source": [
    "### Plotting the actual vs Predicted values for random Forest Model"
   ]
  },
  {
   "cell_type": "code",
   "execution_count": null,
   "id": "a51732b8",
   "metadata": {},
   "outputs": [],
   "source": [
    "import matplotlib.pyplot as plt\n",
    "\n",
    "# Plot actual vs predicted values\n",
    "plt.style.use('fivethirtyeight')\n",
    "#plt.style.use('dark_background')\n",
    "plt.figure(figsize=(14, 8))\n",
    "plt.scatter(X_test['DATEPRD'], y_pred, label='predicted')\n",
    "plt.scatter(X_test['DATEPRD'], y_test, label='actual')\n",
    "plt.legend()\n",
    "plt.xlabel(\"Year \")#represented in terms of 9th power of seconds as we are using unix timestamp\n",
    "plt.ylabel(\"Bore oil volume\")\n",
    "plt.title('Actual vs Predicted Oil Volume Production (Random Forest Regression)')\n",
    "\n",
    "# Show plot\n",
    "plt.show()\n"
   ]
  },
  {
   "cell_type": "code",
   "execution_count": null,
   "id": "4bd7ae3e",
   "metadata": {},
   "outputs": [],
   "source": []
  },
  {
   "cell_type": "code",
   "execution_count": null,
   "id": "33aa9d8f",
   "metadata": {},
   "outputs": [],
   "source": []
  },
  {
   "cell_type": "code",
   "execution_count": null,
   "id": "f568694a",
   "metadata": {},
   "outputs": [],
   "source": []
  },
  {
   "cell_type": "markdown",
   "id": "9bbb1230",
   "metadata": {},
   "source": [
    "### Plotting the actual vs Predicted values for Each wells"
   ]
  },
  {
   "cell_type": "markdown",
   "id": "69620b89",
   "metadata": {},
   "source": [
    "#### Actual VS Predicted values for well-5351"
   ]
  },
  {
   "cell_type": "code",
   "execution_count": null,
   "id": "aab1deb9",
   "metadata": {},
   "outputs": [],
   "source": [
    "# Select data for well 5351\n",
    "X_test_5351_rf = X_test[X_test['NPD_WELL_BORE_CODE'] == 5351]\n",
    "y_test_5351_rf = y_test[X_test['NPD_WELL_BORE_CODE'] == 5351]\n",
    "y_pred_5351_rf = rf_model.predict(X_test_5351_rf)\n",
    "\n",
    "# Plot predicted vs actual oil production\n",
    "plt.figure(figsize=(14, 8))\n",
    "plt.scatter(X_test_5351_rf['DATEPRD'], y_test_5351_rf, label='actual')\n",
    "plt.scatter(X_test_5351_rf['DATEPRD'], y_pred_5351_rf, label='predicted')\n",
    "plt.xlabel('Year')\n",
    "plt.ylabel('Bore oil volume')\n",
    "plt.title('Actual vs Random Forest Regression Model prediction for Bore Oil Volume for Well No. - 5351')\n",
    "plt.legend()\n",
    "plt.show()\n",
    "\n",
    "# Plot residual plot\n",
    "plt.figure(figsize=(14, 8))\n",
    "plt.scatter(y_pred_5351_rf, y_pred_5351_rf - y_test_5351_rf, c='b', s=40, alpha=0.5)\n",
    "plt.hlines(y=0, xmin=0, xmax=max(y_test_5351_rf), colors='r', zorder=3)\n",
    "plt.xlabel('Predicted Values')\n",
    "plt.ylabel('Residuals')\n",
    "plt.title('Residual Plot for Random Forest Regression Model for Well No. - 5351')\n",
    "plt.show()"
   ]
  },
  {
   "cell_type": "code",
   "execution_count": null,
   "id": "16ebfb0d",
   "metadata": {},
   "outputs": [],
   "source": [
    "# Select data for well 7078\n",
    "X_test_7078_rf = X_test[X_test['NPD_WELL_BORE_CODE'] == 7078]\n",
    "y_test_7078_rf = y_test[X_test['NPD_WELL_BORE_CODE'] == 7078]\n",
    "y_pred_7078_rf = rf_model.predict(X_test_7078_rf)\n",
    "\n",
    "# Plot predicted vs actual oil production\n",
    "plt.figure(figsize=(14, 8))\n",
    "plt.scatter(X_test_7078_rf['DATEPRD'], y_test_7078_rf, label='actual')\n",
    "plt.scatter(X_test_7078_rf['DATEPRD'], y_pred_7078_rf, label='predicted')\n",
    "plt.xlabel('Year')\n",
    "plt.ylabel('Bore oil volume')\n",
    "plt.title('Actual vs Random Forest Regression Model prediction for Bore Oil Volume for Well No. - 7078')\n",
    "plt.legend()\n",
    "plt.show()\n",
    "\n",
    "# Plot residual plot\n",
    "plt.figure(figsize=(14, 8))\n",
    "plt.scatter(y_pred_7078_rf, y_pred_7078_rf - y_test_7078_rf, c='b', s=40, alpha=0.5)\n",
    "plt.hlines(y=0, xmin=0, xmax=max(y_test_7078_rf), colors='r', zorder=3)\n",
    "plt.xlabel('Predicted Values')\n",
    "plt.ylabel('Residuals')\n",
    "plt.title('Residual Plot for Random Forest Regression Model for Well No. - 7078')\n",
    "plt.show()\n"
   ]
  },
  {
   "cell_type": "code",
   "execution_count": null,
   "id": "bf7c8cb6",
   "metadata": {},
   "outputs": [],
   "source": [
    "# Select data for well 7405\n",
    "X_test_5599_rf = X_test[X_test['NPD_WELL_BORE_CODE'] == 5599]\n",
    "y_test_5599_rf = y_test[X_test['NPD_WELL_BORE_CODE'] == 5599]\n",
    "y_pred_5599_rf = rf_model.predict(X_test_5599_rf)\n",
    "\n",
    "# Plot predicted vs actual oil production\n",
    "plt.figure(figsize=(14, 8))\n",
    "plt.scatter(X_test_5599_rf['DATEPRD'], y_test_5599_rf, label='actual')\n",
    "plt.scatter(X_test_5599_rf['DATEPRD'], y_pred_5599_rf, label='predicted')\n",
    "plt.xlabel('Year')\n",
    "plt.ylabel('Bore oil volume')\n",
    "plt.title('Actual vs Random Forest Regression Model prediction for Bore Oil Volume for Well No. - 5599')\n",
    "plt.legend()\n",
    "plt.show()\n",
    "\n",
    "# Plot residual plot\n",
    "plt.figure(figsize=(14, 8))\n",
    "plt.scatter(y_pred_5599_rf, y_pred_5599_rf - y_test_5599_rf, c='b', s=40, alpha=0.5)\n",
    "plt.hlines(y=0, xmin=0, xmax=max(y_test_5599_rf), colors='r', zorder=3)\n",
    "plt.xlabel('Predicted Values')\n",
    "plt.ylabel('Residuals')\n",
    "plt.title('Residual Plot for Random Forest Regression Model for Well No. - 5599')\n",
    "plt.show()"
   ]
  },
  {
   "cell_type": "code",
   "execution_count": null,
   "id": "a00d1eda",
   "metadata": {},
   "outputs": [],
   "source": []
  },
  {
   "cell_type": "code",
   "execution_count": null,
   "id": "9f529116",
   "metadata": {},
   "outputs": [],
   "source": []
  },
  {
   "cell_type": "code",
   "execution_count": null,
   "id": "53abec96",
   "metadata": {},
   "outputs": [],
   "source": []
  },
  {
   "cell_type": "markdown",
   "id": "26138973",
   "metadata": {},
   "source": [
    "### Comparison of R2 square values"
   ]
  },
  {
   "cell_type": "code",
   "execution_count": null,
   "id": "6d36bc80",
   "metadata": {},
   "outputs": [],
   "source": [
    "import matplotlib.pyplot as plt\n",
    "\n",
    "# Define data\n",
    "models = ['Linear Regression', 'Polynomial Regression', 'XGBoost Regression', 'Random Forest Regression']\n",
    "r2_scores = [0.5545, 0.9301, 0.9941, 0.9755]\n",
    "\n",
    "# Set figure size\n",
    "fig, ax = plt.subplots(figsize=(10, 8))\n",
    "\n",
    "# Define colors for each model\n",
    "colors = ['blue', 'green', 'red', 'orange']\n",
    "\n",
    "# Create bar chart\n",
    "ax.bar(models, r2_scores, color=['#1f77b4', '#ff7f0e', '#2ca02c', '#d62728'])\n",
    "\n",
    "# Add labels and title\n",
    "ax.set_xlabel('Model')\n",
    "ax.set_ylabel('R2 Score')\n",
    "ax.set_title('Comparison of R2 Scores for Oil Production Models')\n",
    "\n",
    "# Display plot\n",
    "plt.show()\n"
   ]
  },
  {
   "cell_type": "markdown",
   "id": "8f89ca48",
   "metadata": {},
   "source": [
    "### Comparing the Mean Absolute Errors Of the Machine Learning Models"
   ]
  },
  {
   "cell_type": "code",
   "execution_count": null,
   "id": "432eb3a9",
   "metadata": {},
   "outputs": [],
   "source": [
    "models = ['Linear Regression', 'Polynomial Regression', 'XGBoost', 'Random Forest']\n",
    "mae = [705.8759, 250.3786, 53.5111, 122.8333]\n",
    "colors = ['blue', 'green', 'red', 'orange']\n",
    "fig, ax = plt.subplots(figsize=(8, 6))\n",
    "ax.bar(models, mae, color=['#1f77b4', '#ff7f0e', '#2ca02c', '#d62728'])\n",
    "ax.set_title('Comparison of Mean Absolute Error (MAE) of Four Models')\n",
    "ax.set_xlabel('Model')\n",
    "ax.set_ylabel('MAE')\n",
    "plt.show()\n",
    "\n"
   ]
  },
  {
   "cell_type": "markdown",
   "id": "deda14ca",
   "metadata": {},
   "source": [
    "### Comparing the Mean Squared Errors of the Machine Learning Models"
   ]
  },
  {
   "cell_type": "code",
   "execution_count": null,
   "id": "fe7f49c0",
   "metadata": {},
   "outputs": [],
   "source": [
    "import matplotlib.pyplot as plt\n",
    "import numpy as np\n",
    "\n",
    "models = ['Linear Regression', 'Polynomial Regression', 'XGBoost', 'Random Forest']\n",
    "mse = [834343.8099, 130862.5409, 11113.8842, 45689.4333]\n",
    "colors = ['blue', 'green', 'red', 'orange']\n",
    "\n",
    "fig, ax = plt.subplots(figsize=(8, 6))\n",
    "ax.bar(models, mse, color=['#1f77b4', '#ff7f0e', '#2ca02c', '#d62728'])\n",
    "ax.set_title('Comparison of Mean Squared Error (MSE) of Four Models')\n",
    "ax.set_xlabel('Model')\n",
    "ax.set_ylabel('MSE')\n",
    "plt.show()"
   ]
  },
  {
   "cell_type": "code",
   "execution_count": null,
   "id": "28aa55cb",
   "metadata": {},
   "outputs": [],
   "source": [
    "import matplotlib.pyplot as plt\n",
    "\n",
    "# define the data\n",
    "models = ['Linear Regression', 'Polynomial Regression', 'XGBoost Regression', 'Random Forest Regression']\n",
    "rmse = [913.4242, 361.7493, 105.4224, 213.7509]\n",
    "\n",
    "# set the figure size\n",
    "plt.figure(figsize=(10, 8))\n",
    "\n",
    "# create the bar chart\n",
    "plt.bar(models, rmse, color=['#1f77b4', '#ff7f0e', '#2ca02c', '#d62728'])\n",
    "\n",
    "# add labels and title\n",
    "plt.xlabel('Model')\n",
    "plt.ylabel('Root Mean Squared Error')\n",
    "plt.title('Comparison of RMSE for Oil Volume Production')\n",
    "\n",
    "# display the plot\n",
    "plt.show()\n"
   ]
  },
  {
   "cell_type": "code",
   "execution_count": null,
   "id": "035d8ab8",
   "metadata": {},
   "outputs": [],
   "source": [
    "import plotly.graph_objects as go\n",
    "import pandas as pd\n",
    "\n",
    "# Create a dataframe with the performance metrics of the four models\n",
    "data = {'Model': ['Linear Regression', 'Polynomial Regression', 'XGBoost Regression', 'Random Forest Regression'],\n",
    "        'R2 Score': [0.55, 0.93, 0.99, 0.98],\n",
    "        'MAE': [705.88, 250.38, 53.51, 122.83],\n",
    "        'MSE': [834343.81, 130862.54, 11113.88, 45689.43],\n",
    "        'RMSE': [913.42, 361.75, 105.42, 213.75]}\n",
    "df = pd.DataFrame(data)\n",
    "\n",
    "# Normalize the metrics so they can be plotted on the same scale\n",
    "df_norm = df.drop('Model', axis=1).apply(lambda x: (x - x.min()) / (x.max() - x.min()))\n",
    "\n",
    "# Create the radar chart\n",
    "fig = go.Figure()\n",
    "\n",
    "# Add a trace for each model\n",
    "for model in df['Model']:\n",
    "    fig.add_trace(go.Scatterpolar(\n",
    "        r=df_norm.loc[df['Model'] == model].values.flatten().tolist(),\n",
    "        theta=df_norm.columns.tolist(),\n",
    "        fill='toself',\n",
    "        name=model\n",
    "    ))\n",
    "\n",
    "# Set the title and layout\n",
    "fig.update_layout(\n",
    "    polar=dict(\n",
    "        radialaxis=dict(\n",
    "            visible=True,\n",
    "            range=[0, 1]\n",
    "        )\n",
    "    ),\n",
    "    showlegend=True,\n",
    "    title='Performance Metrics of Four Models',\n",
    ")\n",
    "\n",
    "# Show the chart\n",
    "fig.show()\n"
   ]
  },
  {
   "cell_type": "code",
   "execution_count": null,
   "id": "6d7568bb",
   "metadata": {},
   "outputs": [],
   "source": []
  },
  {
   "cell_type": "code",
   "execution_count": null,
   "id": "f22a19ac",
   "metadata": {},
   "outputs": [],
   "source": []
  }
 ],
 "metadata": {
  "kernelspec": {
   "display_name": "Python 3 (ipykernel)",
   "language": "python",
   "name": "python3"
  },
  "language_info": {
   "codemirror_mode": {
    "name": "ipython",
    "version": 3
   },
   "file_extension": ".py",
   "mimetype": "text/x-python",
   "name": "python",
   "nbconvert_exporter": "python",
   "pygments_lexer": "ipython3",
   "version": "3.9.13"
  }
 },
 "nbformat": 4,
 "nbformat_minor": 5
}
